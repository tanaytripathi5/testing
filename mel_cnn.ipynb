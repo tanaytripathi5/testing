{
 "cells": [
  {
   "cell_type": "code",
   "execution_count": 1,
   "source": [
    "import tensorflow as tf\r\n",
    "import numpy as np\r\n",
    "import matplotlib.pyplot as plt"
   ],
   "outputs": [],
   "metadata": {}
  },
  {
   "cell_type": "code",
   "execution_count": 34,
   "source": [
    "from tensorflow.keras.preprocessing.image import ImageDataGenerator\r\n",
    "from tensorflow.keras.applications import ResNet50\r\n",
    "from tensorflow.keras.applications import EfficientNetB0\r\n",
    "from tensorflow.keras.applications.efficientnet import preprocess_input\r\n"
   ],
   "outputs": [],
   "metadata": {}
  },
  {
   "cell_type": "code",
   "execution_count": 35,
   "source": [
    "train_datagen = ImageDataGenerator(rescale = 1./255,\r\n",
    "                                   preprocessing_function=preprocess_input)\r\n",
    "                                  # validation_split= 0.2)\r\n",
    "\r\n",
    "training_set = train_datagen.flow_from_directory(\"mel_sprec\\mel_11\\\\train\",\r\n",
    "                                            batch_size=15,\r\n",
    "                                            shuffle= True,\r\n",
    "                                            target_size=(64,64))\r\n",
    "\r\n",
    "val_datagen = ImageDataGenerator(rescale = 1./255,\r\n",
    "                                preprocessing_function=preprocess_input)\r\n",
    "\r\n",
    "validation_set = val_datagen.flow_from_directory(\"mel_sprec\\mel_11\\\\validation\",\r\n",
    "                                            batch_size=15,\r\n",
    "                                            shuffle = True,\r\n",
    "                                            target_size=(64,64))"
   ],
   "outputs": [
    {
     "output_type": "stream",
     "name": "stdout",
     "text": [
      "Found 300 images belonging to 6 classes.\n",
      "Found 102 images belonging to 6 classes.\n"
     ]
    }
   ],
   "metadata": {}
  },
  {
   "cell_type": "code",
   "execution_count": 36,
   "source": [
    "feature_extractor = EfficientNetB0(weights='imagenet', \r\n",
    "                             input_shape=(64,64, 3),\r\n",
    "                             include_top=False)\r\n",
    "\r\n",
    "# Set this parameter to make sure it's not being trained\r\n",
    "feature_extractor.trainable = True\r\n",
    "\r\n",
    "# Set the input layer\r\n",
    "input_ = tf.keras.Input(shape=(64,64, 3))\r\n",
    "\r\n",
    "# Set the feature extractor layer\r\n",
    "x = feature_extractor(input_, training= True)\r\n",
    "\r\n",
    "# Set the pooling layer\r\n",
    "x = tf.keras.layers.GlobalAveragePooling2D()(x)\r\n",
    "\r\n",
    "x = tf.keras.layers.Flatten()(x)\r\n",
    "\r\n",
    "#x = tf.keras.layers.Dropout(0.2)(x)\r\n",
    "\r\n",
    "#x = tf.keras.layers.Dense(256,activation=\"relu\")(x)\r\n",
    "\r\n",
    "x = tf.keras.layers.Dropout(0.2)(x)\r\n",
    "\r\n",
    "x = tf.keras.layers.Dense(64,activation=\"relu\")(x)\r\n",
    "\r\n",
    "\r\n",
    "\r\n",
    "# Set the final layer with sigmoid activation function\r\n",
    "output_ = tf.keras.layers.Dense(6, activation='softmax')(x)\r\n",
    "\r\n",
    "# Create the new model object\r\n",
    "model = tf.keras.Model(input_, output_)\r\n",
    "\r\n",
    "# Compile it\r\n",
    "model.compile(optimizer=tf.keras.optimizers.Adam(lr=0.00025 , decay = 1e-6),\r\n",
    "             loss='categorical_crossentropy',\r\n",
    "             metrics=['accuracy'])\r\n",
    "\r\n",
    "# Print The Summary of The Model\r\n",
    "model.summary()"
   ],
   "outputs": [
    {
     "output_type": "stream",
     "name": "stdout",
     "text": [
      "Model: \"functional_17\"\n",
      "_________________________________________________________________\n",
      "Layer (type)                 Output Shape              Param #   \n",
      "=================================================================\n",
      "input_18 (InputLayer)        [(None, 64, 64, 3)]       0         \n",
      "_________________________________________________________________\n",
      "efficientnetb0 (Functional)  (None, 2, 2, 1280)        4049571   \n",
      "_________________________________________________________________\n",
      "global_average_pooling2d_8 ( (None, 1280)              0         \n",
      "_________________________________________________________________\n",
      "flatten_8 (Flatten)          (None, 1280)              0         \n",
      "_________________________________________________________________\n",
      "dropout_8 (Dropout)          (None, 1280)              0         \n",
      "_________________________________________________________________\n",
      "dense_19 (Dense)             (None, 64)                81984     \n",
      "_________________________________________________________________\n",
      "dense_20 (Dense)             (None, 6)                 390       \n",
      "=================================================================\n",
      "Total params: 4,131,945\n",
      "Trainable params: 4,089,922\n",
      "Non-trainable params: 42,023\n",
      "_________________________________________________________________\n"
     ]
    }
   ],
   "metadata": {}
  },
  {
   "cell_type": "code",
   "execution_count": 12,
   "source": [
    "def scheduler(epoch, lr):\r\n",
    "    if epoch < 10:\r\n",
    "        return lr\r\n",
    "    else:\r\n",
    "        return lr * tf.math.exp(-0.1)"
   ],
   "outputs": [],
   "metadata": {}
  },
  {
   "cell_type": "code",
   "execution_count": 17,
   "source": [
    "lr_schedule = tf.keras.callbacks.LearningRateScheduler(\r\n",
    "    lambda epoch: 1e-8 * 10**(epoch/20)\r\n",
    ")"
   ],
   "outputs": [],
   "metadata": {}
  },
  {
   "cell_type": "code",
   "execution_count": 37,
   "source": [
    "history = model.fit(training_set, epochs=20, validation_data=validation_set)"
   ],
   "outputs": [
    {
     "output_type": "stream",
     "name": "stdout",
     "text": [
      "Epoch 1/20\n",
      "20/20 [==============================] - 6s 319ms/step - loss: 1.7792 - accuracy: 0.2633 - val_loss: 1.5753 - val_accuracy: 0.3922\n",
      "Epoch 2/20\n",
      "20/20 [==============================] - 5s 244ms/step - loss: 1.4430 - accuracy: 0.4600 - val_loss: 1.2956 - val_accuracy: 0.5000\n",
      "Epoch 3/20\n",
      "20/20 [==============================] - 5s 245ms/step - loss: 1.2018 - accuracy: 0.5800 - val_loss: 1.2598 - val_accuracy: 0.4902\n",
      "Epoch 4/20\n",
      "20/20 [==============================] - 5s 243ms/step - loss: 1.0231 - accuracy: 0.6600 - val_loss: 1.2222 - val_accuracy: 0.5098\n",
      "Epoch 5/20\n",
      "20/20 [==============================] - 5s 251ms/step - loss: 0.8328 - accuracy: 0.7200 - val_loss: 1.0941 - val_accuracy: 0.6176\n",
      "Epoch 6/20\n",
      "20/20 [==============================] - 5s 243ms/step - loss: 0.6793 - accuracy: 0.7567 - val_loss: 0.9780 - val_accuracy: 0.6961\n",
      "Epoch 7/20\n",
      "20/20 [==============================] - 5s 245ms/step - loss: 0.6280 - accuracy: 0.7733 - val_loss: 1.0679 - val_accuracy: 0.5882\n",
      "Epoch 8/20\n",
      "20/20 [==============================] - 5s 246ms/step - loss: 0.5280 - accuracy: 0.8200 - val_loss: 1.1459 - val_accuracy: 0.5490\n",
      "Epoch 9/20\n",
      "20/20 [==============================] - 5s 244ms/step - loss: 0.4940 - accuracy: 0.8367 - val_loss: 1.0249 - val_accuracy: 0.6176\n",
      "Epoch 10/20\n",
      "20/20 [==============================] - 5s 242ms/step - loss: 0.4280 - accuracy: 0.8600 - val_loss: 1.1129 - val_accuracy: 0.6078\n",
      "Epoch 11/20\n",
      "20/20 [==============================] - 5s 241ms/step - loss: 0.3721 - accuracy: 0.8767 - val_loss: 1.0684 - val_accuracy: 0.6667\n",
      "Epoch 12/20\n",
      "20/20 [==============================] - 5s 241ms/step - loss: 0.3684 - accuracy: 0.8667 - val_loss: 0.9611 - val_accuracy: 0.7059\n",
      "Epoch 13/20\n",
      "20/20 [==============================] - 5s 241ms/step - loss: 0.2869 - accuracy: 0.9033 - val_loss: 1.0729 - val_accuracy: 0.6176\n",
      "Epoch 14/20\n",
      "20/20 [==============================] - 5s 245ms/step - loss: 0.3092 - accuracy: 0.9067 - val_loss: 1.1944 - val_accuracy: 0.6373\n",
      "Epoch 15/20\n",
      "20/20 [==============================] - 5s 248ms/step - loss: 0.2078 - accuracy: 0.9333 - val_loss: 1.2996 - val_accuracy: 0.5588\n",
      "Epoch 16/20\n",
      "20/20 [==============================] - 5s 239ms/step - loss: 0.2587 - accuracy: 0.9367 - val_loss: 1.3600 - val_accuracy: 0.6471\n",
      "Epoch 17/20\n",
      "20/20 [==============================] - 5s 238ms/step - loss: 0.2442 - accuracy: 0.9333 - val_loss: 1.3857 - val_accuracy: 0.5588\n",
      "Epoch 18/20\n",
      "20/20 [==============================] - 5s 239ms/step - loss: 0.2867 - accuracy: 0.8867 - val_loss: 1.2512 - val_accuracy: 0.5784\n",
      "Epoch 19/20\n",
      "20/20 [==============================] - 5s 241ms/step - loss: 0.2424 - accuracy: 0.9400 - val_loss: 1.0940 - val_accuracy: 0.6373\n",
      "Epoch 20/20\n",
      "20/20 [==============================] - 5s 240ms/step - loss: 0.2659 - accuracy: 0.9033 - val_loss: 1.2364 - val_accuracy: 0.6373\n"
     ]
    }
   ],
   "metadata": {}
  },
  {
   "cell_type": "code",
   "execution_count": 18,
   "source": [],
   "outputs": [
    {
     "output_type": "execute_result",
     "data": {
      "text/plain": [
       "{'loss': [0.8539015650749207,\n",
       "  0.76399827003479,\n",
       "  0.6751458048820496,\n",
       "  0.6121060252189636,\n",
       "  0.5596533417701721,\n",
       "  0.5018951296806335,\n",
       "  0.4952899217605591,\n",
       "  0.4094383716583252,\n",
       "  0.4490027129650116,\n",
       "  0.3979167938232422,\n",
       "  0.3232474625110626,\n",
       "  0.3202124536037445,\n",
       "  0.2565664052963257,\n",
       "  0.2541413903236389,\n",
       "  0.24831071496009827,\n",
       "  0.20706701278686523,\n",
       "  0.19852091372013092,\n",
       "  0.11419669538736343,\n",
       "  0.10718680918216705,\n",
       "  0.10221825540065765],\n",
       " 'accuracy': [0.7149099111557007,\n",
       "  0.7416712045669556,\n",
       "  0.7602403163909912,\n",
       "  0.7788093686103821,\n",
       "  0.7979246377944946,\n",
       "  0.8099399209022522,\n",
       "  0.81922447681427,\n",
       "  0.8547241687774658,\n",
       "  0.8323320746421814,\n",
       "  0.8569087982177734,\n",
       "  0.8973238468170166,\n",
       "  0.8842162489891052,\n",
       "  0.9098852872848511,\n",
       "  0.9208083152770996,\n",
       "  0.9142544865608215,\n",
       "  0.9240851998329163,\n",
       "  0.9377389550209045,\n",
       "  0.9617695212364197,\n",
       "  0.9606772065162659,\n",
       "  0.9606772065162659],\n",
       " 'val_loss': [0.7867847681045532,\n",
       "  0.7295507788658142,\n",
       "  0.5586274862289429,\n",
       "  0.6769007444381714,\n",
       "  0.5587220788002014,\n",
       "  0.7799656391143799,\n",
       "  0.48793864250183105,\n",
       "  0.6193904280662537,\n",
       "  0.6999186277389526,\n",
       "  0.4940628111362457,\n",
       "  0.6837260127067566,\n",
       "  0.5085951685905457,\n",
       "  0.5799304842948914,\n",
       "  0.548887312412262,\n",
       "  0.5382884740829468,\n",
       "  0.7939853668212891,\n",
       "  0.4838317930698395,\n",
       "  0.7012134194374084,\n",
       "  0.6781996488571167,\n",
       "  0.5553708672523499],\n",
       " 'val_accuracy': [0.7296703457832336,\n",
       "  0.7252747416496277,\n",
       "  0.791208803653717,\n",
       "  0.6989011168479919,\n",
       "  0.8065934181213379,\n",
       "  0.7560439705848694,\n",
       "  0.8439560532569885,\n",
       "  0.8043956160545349,\n",
       "  0.7692307829856873,\n",
       "  0.8175824284553528,\n",
       "  0.79340660572052,\n",
       "  0.8307692408561707,\n",
       "  0.8175824284553528,\n",
       "  0.8131868243217468,\n",
       "  0.8329670429229736,\n",
       "  0.8109890222549438,\n",
       "  0.8527472615242004,\n",
       "  0.8395604491233826,\n",
       "  0.8395604491233826,\n",
       "  0.8439560532569885]}"
      ]
     },
     "metadata": {},
     "execution_count": 18
    }
   ],
   "metadata": {}
  },
  {
   "cell_type": "code",
   "execution_count": 19,
   "source": [
    "model.save(\"Unbalanced.h5\")"
   ],
   "outputs": [],
   "metadata": {}
  },
  {
   "cell_type": "code",
   "execution_count": 23,
   "source": [
    "history1 = history"
   ],
   "outputs": [],
   "metadata": {}
  },
  {
   "cell_type": "code",
   "execution_count": 25,
   "source": [
    "history2= history"
   ],
   "outputs": [],
   "metadata": {}
  }
 ],
 "metadata": {
  "orig_nbformat": 4,
  "language_info": {
   "name": "python",
   "version": "3.8.8",
   "mimetype": "text/x-python",
   "codemirror_mode": {
    "name": "ipython",
    "version": 3
   },
   "pygments_lexer": "ipython3",
   "nbconvert_exporter": "python",
   "file_extension": ".py"
  },
  "kernelspec": {
   "name": "python3",
   "display_name": "Python 3.8.8 64-bit ('base': conda)"
  },
  "interpreter": {
   "hash": "4c790f73034b7a684a4755f228ee0143bcc4b9c90f00b1a517fea2514c0d7679"
  }
 },
 "nbformat": 4,
 "nbformat_minor": 2
}